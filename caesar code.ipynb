{
 "cells": [
  {
   "cell_type": "code",
   "execution_count": 63,
   "id": "veterinary-wireless",
   "metadata": {},
   "outputs": [],
   "source": [
    "def caesar_encrypt(text, s): #s for shift\n",
    "    encrypted_text = \"\"\n",
    "    for i in range(len(text)):\n",
    "        C = text[i]\n",
    "        if (C.isupper()) and (C.isalpha()):\n",
    "            encrypted_text += chr((ord(C) + s - ord('@'))% 26 + ord('A'))\n",
    "        elif (C.islower()) and (C.isalpha()):\n",
    "            encrypted_text += chr((ord(C) + s - ord('`')) % 26 + ord('a'))\n",
    "    return(encrypted_text)"
   ]
  },
  {
   "cell_type": "code",
   "execution_count": 67,
   "id": "rolled-treasury",
   "metadata": {},
   "outputs": [],
   "source": [
    "def caesar_decrypt(text,s):\n",
    "    decrypted_text = \"\"\n",
    "    for i in range(len(text)):\n",
    "        C = text[i]\n",
    "        if (C.isupper()) and (C.isalpha()):\n",
    "            decrypted_text += chr((ord(C) - s - ord('@')) % 26 + ord('A'))\n",
    "        elif (C.islower()) and (C.isalpha()):\n",
    "            decrypted_text += chr((ord(C) - s - ord('`')) % 26 + ord('a'))\n",
    "    return(decrypted_text)"
   ]
  },
  {
   "cell_type": "code",
   "execution_count": 68,
   "id": "electrical-danish",
   "metadata": {},
   "outputs": [
    {
     "data": {
      "text/plain": [
       "'jgnnqyqtnf'"
      ]
     },
     "execution_count": 68,
     "metadata": {},
     "output_type": "execute_result"
    }
   ],
   "source": [
    "caesar_encrypt(\"hello world\", 1)"
   ]
  },
  {
   "cell_type": "code",
   "execution_count": 69,
   "id": "therapeutic-synthesis",
   "metadata": {},
   "outputs": [
    {
     "data": {
      "text/plain": [
       "'ifmmpoxpsme'"
      ]
     },
     "execution_count": 69,
     "metadata": {},
     "output_type": "execute_result"
    }
   ],
   "source": [
    "caesar_decrypt(\"ifmmpoxpsme\",1)"
   ]
  },
  {
   "cell_type": "code",
   "execution_count": 55,
   "id": "killing-integer",
   "metadata": {},
   "outputs": [
    {
     "data": {
      "text/plain": [
       "65"
      ]
     },
     "execution_count": 55,
     "metadata": {},
     "output_type": "execute_result"
    }
   ],
   "source": [
    "ord('A')"
   ]
  },
  {
   "cell_type": "code",
   "execution_count": 56,
   "id": "ranking-school",
   "metadata": {},
   "outputs": [
    {
     "data": {
      "text/plain": [
       "'@'"
      ]
     },
     "execution_count": 56,
     "metadata": {},
     "output_type": "execute_result"
    }
   ],
   "source": [
    "chr(64)"
   ]
  },
  {
   "cell_type": "code",
   "execution_count": 57,
   "id": "prescribed-geography",
   "metadata": {},
   "outputs": [
    {
     "data": {
      "text/plain": [
       "'\\x01'"
      ]
     },
     "execution_count": 57,
     "metadata": {},
     "output_type": "execute_result"
    }
   ],
   "source": [
    "chr(1)"
   ]
  },
  {
   "cell_type": "code",
   "execution_count": 58,
   "id": "european-briefing",
   "metadata": {},
   "outputs": [
    {
     "data": {
      "text/plain": [
       "'\\x02'"
      ]
     },
     "execution_count": 58,
     "metadata": {},
     "output_type": "execute_result"
    }
   ],
   "source": [
    "chr(2)"
   ]
  },
  {
   "cell_type": "code",
   "execution_count": 59,
   "id": "yellow-iraqi",
   "metadata": {},
   "outputs": [
    {
     "data": {
      "text/plain": [
       "' '"
      ]
     },
     "execution_count": 59,
     "metadata": {},
     "output_type": "execute_result"
    }
   ],
   "source": [
    "chr(32)"
   ]
  },
  {
   "cell_type": "code",
   "execution_count": 60,
   "id": "inside-member",
   "metadata": {},
   "outputs": [
    {
     "data": {
      "text/plain": [
       "'A'"
      ]
     },
     "execution_count": 60,
     "metadata": {},
     "output_type": "execute_result"
    }
   ],
   "source": [
    "chr(65)"
   ]
  },
  {
   "cell_type": "code",
   "execution_count": 61,
   "id": "alien-patrick",
   "metadata": {},
   "outputs": [
    {
     "data": {
      "text/plain": [
       "'`'"
      ]
     },
     "execution_count": 61,
     "metadata": {},
     "output_type": "execute_result"
    }
   ],
   "source": [
    "chr(96)"
   ]
  },
  {
   "cell_type": "code",
   "execution_count": null,
   "id": "integrated-coupon",
   "metadata": {},
   "outputs": [],
   "source": []
  }
 ],
 "metadata": {
  "kernelspec": {
   "display_name": "Python 3",
   "language": "python",
   "name": "python3"
  },
  "language_info": {
   "codemirror_mode": {
    "name": "ipython",
    "version": 3
   },
   "file_extension": ".py",
   "mimetype": "text/x-python",
   "name": "python",
   "nbconvert_exporter": "python",
   "pygments_lexer": "ipython3",
   "version": "3.9.2"
  }
 },
 "nbformat": 4,
 "nbformat_minor": 5
}
