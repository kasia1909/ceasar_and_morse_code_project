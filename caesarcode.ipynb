{
 "cells": [
  {
   "cell_type": "code",
   "execution_count": 5,
   "metadata": {},
   "outputs": [],
   "source": [
    "#caesar cipher\n",
    "\n",
    "def caesar_encrypt(text,s):\n",
    "    encryptedText = \"\"\n",
    "    for i in range(len(text)):\n",
    "        C = text[i]\n",
    "        if C == chr(32): #if C is a space doesnt shift\n",
    "            encryptedText += C\n",
    "        elif C.isupper():\n",
    "            encryptedText += chr((ord(C) +s - ord('A')) % 26 + ord('A'))\n",
    "        elif C.islower():\n",
    "            encryptedText += chr((ord(C) +s -ord('a')) % 26 + ord('a'))\n",
    "    return encryptedText\n"
   ]
  },
  {
   "cell_type": "code",
   "execution_count": 6,
   "metadata": {},
   "outputs": [
    {
     "data": {
      "text/plain": [
       "'jgnnq yqtf'"
      ]
     },
     "execution_count": 6,
     "metadata": {},
     "output_type": "execute_result"
    }
   ],
   "source": [
    "caesar_encrypt(\"hello world\",2)"
   ]
  },
  {
   "cell_type": "code",
   "execution_count": null,
   "metadata": {},
   "outputs": [],
   "source": []
  },
  {
   "cell_type": "code",
   "execution_count": 10,
   "metadata": {},
   "outputs": [],
   "source": [
    "#caesar decipher\n",
    "\n",
    "def caesar_decrypt(text,s):\n",
    "    decryptedText = \"\"\n",
    "    for i in range(len(text)):\n",
    "        C = text[i]\n",
    "        if C == chr(32): #if C is a space doesnt shift\n",
    "            decryptedText += C\n",
    "        elif C.isupper():\n",
    "            decryptedText += chr((ord(C) -s - ord('A')) % 26 + ord('A'))\n",
    "        elif C.islower():\n",
    "            decryptedText += chr((ord(C) -s -ord('a')) % 26 + ord('a'))\n",
    "    return decryptedText\n"
   ]
  },
  {
   "cell_type": "code",
   "execution_count": 11,
   "metadata": {},
   "outputs": [
    {
     "data": {
      "text/plain": [
       "'hello word'"
      ]
     },
     "execution_count": 11,
     "metadata": {},
     "output_type": "execute_result"
    }
   ],
   "source": [
    "caesar_decrypt('jgnnq yqtf',2)"
   ]
  },
  {
   "cell_type": "code",
   "execution_count": null,
   "metadata": {},
   "outputs": [],
   "source": []
  }
 ],
 "metadata": {
  "kernelspec": {
   "display_name": "Python 3",
   "language": "python",
   "name": "python3"
  },
  "language_info": {
   "codemirror_mode": {
    "name": "ipython",
    "version": 3
   },
   "file_extension": ".py",
   "mimetype": "text/x-python",
   "name": "python",
   "nbconvert_exporter": "python",
   "pygments_lexer": "ipython3",
   "version": "3.8.5"
  }
 },
 "nbformat": 4,
 "nbformat_minor": 4
}
